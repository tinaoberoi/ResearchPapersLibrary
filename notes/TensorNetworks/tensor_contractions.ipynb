{
 "cells": [
  {
   "cell_type": "code",
   "execution_count": 2,
   "metadata": {},
   "outputs": [],
   "source": [
    "import numpy as np"
   ]
  },
  {
   "cell_type": "code",
   "execution_count": 30,
   "metadata": {},
   "outputs": [],
   "source": [
    "def contract_at_once(F, A, B, C, d):\n",
    "    F = np.zeros((d, d, d))\n",
    "    for b1 in range(d):\n",
    "        for a2 in range(d):\n",
    "            for c3 in range(d):\n",
    "                for a1 in range(d):\n",
    "                    for a3 in range(d):\n",
    "                        for c1 in range(d):\n",
    "                                F[a2, b1, c3] += A[a1, a2, a3] *B[b1, a1, c1]*C[c1, a3, c3]\n",
    "    return F\n",
    "\n",
    "def contract_at_once_two(F, A, B, C, d):\n",
    "    F = np.zeros((d, d, d))\n",
    "    for b1 in range(d):\n",
    "        for a1 in range(d):\n",
    "            for c1 in range(d):\n",
    "                for a3 in range(d):\n",
    "                    for b2 in range(d):\n",
    "                        for a2 in range(d):\n",
    "                                # Note: connecting edges should be at end (a3, a2)\n",
    "                                F[a1, b1, c1] += A[a3, a1, a2] *B[b1, a3, b2]*C[b2, a2, c1]\n",
    "    return F"
   ]
  },
  {
   "cell_type": "code",
   "execution_count": 38,
   "metadata": {},
   "outputs": [],
   "source": [
    "d = 2\n",
    "A = np.random.rand(d, d, d)\n",
    "B = np.random.rand(d, d, d)\n",
    "C = np.random.rand(d, d, d)\n",
    "\n",
    "F1 = np.zeros((d, d, d))\n",
    "F2 = np.zeros((d, d, d))\n",
    "\n",
    "F1 = contract_at_once(F1, A, B, C, d)\n",
    "F2 = contract_at_once_two(F2, A, B, C, d)\n",
    "\n"
   ]
  },
  {
   "cell_type": "code",
   "execution_count": 32,
   "metadata": {},
   "outputs": [
    {
     "name": "stdout",
     "output_type": "stream",
     "text": [
      "Are the two contraction results equal? True\n"
     ]
    }
   ],
   "source": [
    "are_equal = np.allclose(F1, F2)\n",
    "print(\"Are the two contraction results equal?\", are_equal)"
   ]
  },
  {
   "cell_type": "code",
   "execution_count": 45,
   "metadata": {},
   "outputs": [
    {
     "data": {
      "text/plain": [
       "False"
      ]
     },
     "execution_count": 45,
     "metadata": {},
     "output_type": "execute_result"
    }
   ],
   "source": [
    "Xmid = (B.transpose(0,2,1).reshape(d**2,d) @ A.reshape(d,d**2)).reshape(d,d,d,d)\n",
    "Xmid_2 = (A.reshape(d**d,d) @ B.transpose(2, 1, 0).reshape(d, d**2)).reshape(d,d,d,d)\n",
    "\n",
    "np.allclose(Xmid, Xmid_2)"
   ]
  },
  {
   "cell_type": "code",
   "execution_count": 47,
   "metadata": {},
   "outputs": [
    {
     "data": {
      "text/plain": [
       "array([[[[0.14903249, 0.00905821],\n",
       "         [0.86280582, 0.43174965]],\n",
       "\n",
       "        [[0.12582508, 0.07721757],\n",
       "         [0.34338519, 0.20530473]]],\n",
       "\n",
       "\n",
       "       [[[0.62055681, 0.51818223],\n",
       "         [0.93330424, 0.69820677]],\n",
       "\n",
       "        [[0.08881064, 0.02511938],\n",
       "         [0.40500184, 0.21215282]]]])"
      ]
     },
     "execution_count": 47,
     "metadata": {},
     "output_type": "execute_result"
    }
   ],
   "source": [
    "Xmid"
   ]
  },
  {
   "cell_type": "code",
   "execution_count": 48,
   "metadata": {},
   "outputs": [
    {
     "data": {
      "text/plain": [
       "array([[[[0.15068102, 0.13953587],\n",
       "         [0.00118478, 0.11645577]],\n",
       "\n",
       "        [[1.02387228, 0.99285607],\n",
       "         [0.05102787, 0.69241129]]],\n",
       "\n",
       "\n",
       "       [[[0.85977288, 0.86777003],\n",
       "         [0.07556904, 0.50614033]],\n",
       "\n",
       "        [[0.32164105, 0.3412462 ],\n",
       "         [0.04423827, 0.15260099]]]])"
      ]
     },
     "execution_count": 48,
     "metadata": {},
     "output_type": "execute_result"
    }
   ],
   "source": [
    "Xmid_2"
   ]
  },
  {
   "cell_type": "code",
   "execution_count": null,
   "metadata": {},
   "outputs": [],
   "source": []
  }
 ],
 "metadata": {
  "kernelspec": {
   "display_name": ".venv",
   "language": "python",
   "name": "python3"
  },
  "language_info": {
   "codemirror_mode": {
    "name": "ipython",
    "version": 3
   },
   "file_extension": ".py",
   "mimetype": "text/x-python",
   "name": "python",
   "nbconvert_exporter": "python",
   "pygments_lexer": "ipython3",
   "version": "3.11.6"
  }
 },
 "nbformat": 4,
 "nbformat_minor": 2
}
